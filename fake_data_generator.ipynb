{
 "cells": [
  {
   "cell_type": "markdown",
   "metadata": {},
   "source": [
    "## Fake data generator\n",
    "\n",
    "The real data for this project is used from [The Research Productivity of New PhDs in Economics: The Surprisingly High Non-success of the Successful](https://www.aeaweb.org/articles?id=10.1257/jep.28.3.205). This data is available to anyone who wants it, but they must agree to the terms on the website.\n",
    "\n",
    "As such, I am generating fake data so that someone looking at this repo in isolation can run the code. The data will have the same structure, but will be sampled from arbitrarily fitting distributions.\n",
    "\n",
    "This fake data has the following properties:\n",
    "\n",
    "*   AERPub score is sampled from $gamma(0.15, 0.3)$\n",
    "*   School ranks w\n",
    "\n",
    "A gamma distribution was chosen for of its tendency for the probability mass to be near 0 when scale is small. The parameters of $shape=0.15, scale=3$ were chose by eye."
   ]
  },
  {
   "cell_type": "code",
   "execution_count": 13,
   "metadata": {},
   "outputs": [],
   "source": [
    "import pandas as pd\n",
    "import numpy as np\n",
    "import matplotlib.pyplot as plt"
   ]
  },
  {
   "cell_type": "code",
   "execution_count": 105,
   "metadata": {},
   "outputs": [],
   "source": [
    "columns = [\"PhD_ID\", \"Rank\", \"Year\", \"AERPub\"]\n",
    "min_year = 1986\n",
    "max_year = 2000\n",
    "num_grads_per_year = 900\n",
    "num_entries = num_grads_per_year * (max_year - min_year)\n",
    "\n",
    "gamma_shape = 0.2\n",
    "gamma_size = 3"
   ]
  },
  {
   "cell_type": "code",
   "execution_count": 71,
   "metadata": {},
   "outputs": [
    {
     "data": {
      "text/plain": [
       "array([ 3818,  4217,  2960, ...,  4752,  7202, 11468])"
      ]
     },
     "execution_count": 71,
     "metadata": {},
     "output_type": "execute_result"
    }
   ],
   "source": [
    "# Randomly assign IDs\n",
    "phd_ids = np.arange(num_entries)\n",
    "np.random.shuffle(phd_ids)"
   ]
  },
  {
   "cell_type": "code",
   "execution_count": 97,
   "metadata": {},
   "outputs": [
    {
     "data": {
      "image/png": "[encoded data removed]",
      "text/plain": [
       "<Figure size 432x288 with 1 Axes>"
      ]
     },
     "metadata": {
      "needs_background": "light"
     },
     "output_type": "display_data"
    }
   ],
   "source": [
    "# Uniformly distribute the years\n",
    "years = np.random.randint(min_year, max_year+1, num_entries)\n",
    "plt.hist(years, bins = (max_year-min_year + 1));"
   ]
  },
  {
   "cell_type": "code",
   "execution_count": 99,
   "metadata": {},
   "outputs": [
    {
     "data": {
      "image/png": "[encoded data removed]",
      "text/plain": [
       "<Figure size 432x288 with 1 Axes>"
      ]
     },
     "metadata": {
      "needs_background": "light"
     },
     "output_type": "display_data"
    }
   ],
   "source": [
    "# Distribute the schools.\n",
    "# Uniformly for the top 30 schools, and about 20x likelihood for the other schools.\n",
    "school_dist = np.ones(31)\n",
    "school_dist[30] = 20\n",
    "school_dist = school_dist / school_dist.sum()\n",
    "ranks = np.random.choice(np.arange(1,32), replace=True, size=[num_entries], p=school_dist)\n",
    "plt.hist(ranks, bins=31);"
   ]
  },
  {
   "cell_type": "code",
   "execution_count": 100,
   "metadata": {},
   "outputs": [
    {
     "data": {
      "image/png": "[encoded data removed]",
      "text/plain": [
       "<Figure size 432x288 with 1 Axes>"
      ]
     },
     "metadata": {
      "needs_background": "light"
     },
     "output_type": "display_data"
    }
   ],
   "source": [
    "# Get AER ranks from gamma\n",
    "aers = np.random.gamma(gamma_shape, gamma_size, num_entries)\n",
    "plt.hist(aers);"
   ]
  },
  {
   "cell_type": "code",
   "execution_count": 101,
   "metadata": {},
   "outputs": [],
   "source": [
    "fake_data = pd.DataFrame({\"PhD_ID\": phd_ids, \"Rank\": ranks, \"Year\": years, \"AERPub\":aers})"
   ]
  },
  {
   "cell_type": "code",
   "execution_count": 104,
   "metadata": {},
   "outputs": [],
   "source": [
    "fake_data.to_csv(\"fake_data/fake_data.csv\")\n",
    "fake_data.to_excel(\"fake_data/fake_data.xlsx\")"
   ]
  },
  {
   "cell_type": "code",
   "execution_count": null,
   "metadata": {},
   "outputs": [],
   "source": []
  }
 ],
 "metadata": {
  "kernelspec": {
   "display_name": "Python 3",
   "language": "python",
   "name": "python3"
  },
  "language_info": {
   "codemirror_mode": {
    "name": "ipython",
    "version": 3
   },
   "file_extension": ".py",
   "mimetype": "text/x-python",
   "name": "python",
   "nbconvert_exporter": "python",
   "pygments_lexer": "ipython3",
   "version": "3.7.4"
  }
 },
 "nbformat": 4,
 "nbformat_minor": 2
}
