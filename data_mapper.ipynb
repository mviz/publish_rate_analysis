{
 "cells": [
  {
   "cell_type": "markdown",
   "metadata": {},
   "source": [
    "## Data Mapper\n",
    "\n",
    "Takes the original form of the data and creates useful dataframes for visualization and analysis."
   ]
  },
  {
   "cell_type": "code",
   "execution_count": 8,
   "metadata": {},
   "outputs": [],
   "source": [
    "import numpy as np\n",
    "import pandas as pd"
   ]
  },
  {
   "cell_type": "code",
   "execution_count": 9,
   "metadata": {},
   "outputs": [],
   "source": [
    "# Switch to the fake data if you don't have access to the real data.\n",
    "# raw_data = pd.read_csv(\"fake_data/fake_data.csv\")\n",
    "raw_data = pd.read_excel(\"raw_data/data/Conley_Onder_JEPdata.xlsx\")"
   ]
  },
  {
   "cell_type": "code",
   "execution_count": 10,
   "metadata": {},
   "outputs": [],
   "source": [
    "def q50(x):\n",
    "    return x.quantile(.50)\n",
    "\n",
    "def q75(x):\n",
    "    return x.quantile(.75)\n",
    "\n",
    "def q80(x):\n",
    "    return x.quantile(.80)\n",
    "\n",
    "def q90(x):\n",
    "    return x.quantile(.90)\n",
    "\n",
    "def q95(x):\n",
    "    return x.quantile(.95)\n",
    "\n",
    "def q99(x):\n",
    "    return x.quantile(.99)\n",
    "\n",
    "aggregation_dict = {\"Count\": \"count\", \"Max\": \"max\", \"99th\": q99, \"95th\": q95, \"90th\": q90, \"80th\": q80, \"50th\": q50}\n",
    "quantile_names = [\"99th\", \"95th\", \"90th\", \"80th\", \"50th\"]"
   ]
  },
  {
   "cell_type": "code",
   "execution_count": 11,
   "metadata": {},
   "outputs": [],
   "source": [
    "grouped_ry = raw_data.groupby([\"Rank\", \"Year\"], as_index=False)[\"AERPub\"]\n",
    "quantiled_by_year_rank = grouped_ry.agg(aggregation_dict)\n",
    "mean_aer_quantiles = quantiled_by_year_rank.groupby([\"Rank\"], as_index=False)[quantile_names].mean();"
   ]
  },
  {
   "cell_type": "code",
   "execution_count": 17,
   "metadata": {},
   "outputs": [],
   "source": [
    "quantiled_by_year_rank.to_csv(\"raw_data/rank_year_agg.csv\", index=False)\n",
    "mean_aer_quantiles.to_csv(\"raw_data/rank_agg.csv\", index=False)"
   ]
  },
  {
   "cell_type": "code",
   "execution_count": null,
   "metadata": {},
   "outputs": [],
   "source": []
  }
 ],
 "metadata": {
  "kernelspec": {
   "display_name": "Python 3",
   "language": "python",
   "name": "python3"
  },
  "language_info": {
   "codemirror_mode": {
    "name": "ipython",
    "version": 3
   },
   "file_extension": ".py",
   "mimetype": "text/x-python",
   "name": "python",
   "nbconvert_exporter": "python",
   "pygments_lexer": "ipython3",
   "version": "3.7.4"
  }
 },
 "nbformat": 4,
 "nbformat_minor": 2
}
